{
 "cells": [
  {
   "cell_type": "code",
   "execution_count": null,
   "metadata": {
    "scrolled": true
   },
   "outputs": [],
   "source": [
    "import sys \n",
    "import pygame\n",
    "import import_ipynb\n",
    "from pygame.sprite import Group \n",
    "from settings import Settings\n",
    "import ship\n",
    "from ship import Ship \n",
    "from alien import Alien \n",
    "from bullet import Bullet \n",
    "import game_functions as gf \n",
    "from game_stats import GameStats\n",
    "from scoreboard import Scoreboard\n",
    "from button import Button\n",
    "\n",
    "def run_game():\n",
    "    # initialize pygame, settings and screen object.\n",
    "    \n",
    "    pygame.init()\n",
    "    ai_settings = Settings()\n",
    "    screen = pygame.display.set_mode(\n",
    "        (ai_settings.screen_width, ai_settings.screen_height))\n",
    "    pygame.display.set_caption(\"Alien Invasion\")\n",
    "    # Make the play button.\n",
    "    play_button = Button(ai_settings, screen, \"Play\")\n",
    "    # Create an instance to store game statistics.\n",
    "    stats = GameStats(ai_settings)\n",
    "    # Create an instance to store game statistics and create a scoreboard.\n",
    "    sb = Scoreboard(ai_settings, screen, stats)\n",
    "    # Make a ship, alien, a group of aliens, and a group of bullets.\n",
    "    alien = Alien(ai_settings, screen)\n",
    "    ship = Ship(ai_settings, screen)\n",
    "    bullets = Group()\n",
    "    aliens = Group()\n",
    "    # Create the fleet of aliens.\n",
    "    gf.create_fleet(ai_settings, screen, ship, aliens)\n",
    "    # set background color\n",
    "    bg_color = (230, 230, 230)\n",
    "    # start the main loop for the game\n",
    "    while True:\n",
    "        gf.check_events(ai_settings, screen, stats, sb, play_button, ship, aliens, bullets)\n",
    "        if stats.game_active:\n",
    "            ship.update()\n",
    "            gf.update_bullets(ai_settings, screen, stats, sb, ship, aliens, bullets)\n",
    "            gf.update_aliens(ai_settings, screen, stats, sb, ship, aliens, bullets)\n",
    "        gf.update_screen(ai_settings, screen, stats, sb, ship, aliens, bullets, play_button)\n",
    "run_game()"
   ]
  },
  {
   "cell_type": "code",
   "execution_count": null,
   "metadata": {},
   "outputs": [],
   "source": []
  },
  {
   "cell_type": "code",
   "execution_count": null,
   "metadata": {},
   "outputs": [],
   "source": []
  }
 ],
 "metadata": {
  "kernelspec": {
   "display_name": "Python 3",
   "language": "python",
   "name": "python3"
  },
  "language_info": {
   "codemirror_mode": {
    "name": "ipython",
    "version": 3
   },
   "file_extension": ".py",
   "mimetype": "text/x-python",
   "name": "python",
   "nbconvert_exporter": "python",
   "pygments_lexer": "ipython3",
   "version": "3.7.3"
  }
 },
 "nbformat": 4,
 "nbformat_minor": 2
}
