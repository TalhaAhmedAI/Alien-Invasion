{
 "cells": [
  {
   "cell_type": "code",
   "execution_count": 4,
   "metadata": {},
   "outputs": [],
   "source": [
    "import pygame\n",
    "from pygame.sprite import Sprite\n",
    "class Bullet(Sprite):\n",
    "    \"\"\"A class to manage bullets fired from the ship\"\"\"\n",
    "    def __init__(self, ai_settings, screen, ship):\n",
    "        \"\"\"Create a bullet object at the ship's current position\"\"\"\n",
    "        super().__init__()\n",
    "        self.screen = screen\n",
    "        \n",
    "        # Create a bullet rect at (0, 0) and then set correct position.\n",
    "        self.rect = pygame.Rect(0, 0, ai_settings.bullet_width, ai_settings.bullet_height)\n",
    "        self.rect.centerx = ship.rect.centerx\n",
    "        self.rect.top = ship.rect.top\n",
    "        \n",
    "        # Stoer the bullet's position as a decimal value.\n",
    "        self.y = float(self.rect.y)\n",
    "        self.color = ai_settings.bullet_color\n",
    "        self.speed_factor = ai_settings.bullet_speed_factor\n",
    "    def update(self):\n",
    "        \"\"\"Move the bullet up the screen.\"\"\"\n",
    "        # Update the decimal position of the bullet.\n",
    "        self.y -= self.speed_factor\n",
    "        # Update the rect position.\n",
    "        self.rect.y = self.y\n",
    "    def draw_bullet(self):\n",
    "        \"\"\"Draw the bullet to the screen.\"\"\"\n",
    "        pygame.draw.rect(self.screen, self.color, self.rect)"
   ]
  },
  {
   "cell_type": "code",
   "execution_count": null,
   "metadata": {},
   "outputs": [],
   "source": []
  }
 ],
 "metadata": {
  "kernelspec": {
   "display_name": "Python 3",
   "language": "python",
   "name": "python3"
  },
  "language_info": {
   "codemirror_mode": {
    "name": "ipython",
    "version": 3
   },
   "file_extension": ".py",
   "mimetype": "text/x-python",
   "name": "python",
   "nbconvert_exporter": "python",
   "pygments_lexer": "ipython3",
   "version": "3.7.3"
  }
 },
 "nbformat": 4,
 "nbformat_minor": 2
}
