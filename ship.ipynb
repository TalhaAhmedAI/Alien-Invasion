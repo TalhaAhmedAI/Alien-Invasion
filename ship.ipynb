{
 "cells": [
  {
   "cell_type": "code",
   "execution_count": 2,
   "metadata": {},
   "outputs": [],
   "source": [
    "import pygame\n",
    "from pygame.sprite import Sprite\n",
    "\n",
    "class Ship(Sprite):\n",
    "    '''initialize the ship and set its starting position'''\n",
    "    def __init__(self, ai_settings, screen):\n",
    "        # make ship inherit from Sprite.\n",
    "        super(Ship, self).__init__()\n",
    "        \n",
    "        self.screen = screen\n",
    "        self.ai_settings = ai_settings\n",
    "    \n",
    "        #load the ship image and set its rect.\n",
    "        self.image = pygame.image.load('images/ship.bmp')\n",
    "        self.rect = self.image.get_rect()\n",
    "        self.screen_rect = screen.get_rect()\n",
    "    \n",
    "        #start each new ship at the bottome center of the screen.\n",
    "        self.rect.centerx = self.screen_rect.centerx\n",
    "        self.rect.bottom = self.screen_rect.bottom\n",
    "        # store a decimal value for ship's center\n",
    "        self.center = float(self.rect.centerx)\n",
    "        # Movement flag right\n",
    "        self.moving_right = False\n",
    "        # Movement flag left\n",
    "        self.moving_left = False\n",
    "        \n",
    "    def update(self):\n",
    "        '''Update the ships position based on the movement flag'''\n",
    "        # Update the ship's center value not the rect\n",
    "        if self.moving_right and self.rect.right < self.screen_rect.right:\n",
    "            self.center += self.ai_settings.ship_speed_factor\n",
    "        if self.moving_left and self.rect.left > 0:\n",
    "            self.center -= self.ai_settings.ship_speed_factor\n",
    "        # Update rect object from self.center\n",
    "        self.rect.centerx = self.center\n",
    "\n",
    "    def blitme(self):\n",
    "        '''draw the ship at its current location'''\n",
    "        self.screen.blit(self.image, self.rect)\n",
    "    \n",
    "    def center_ship(self):\n",
    "        \"\"\"Center the ship on the screen.\"\"\"\n",
    "        self.center = self.screen_rect.centerx"
   ]
  },
  {
   "cell_type": "code",
   "execution_count": null,
   "metadata": {},
   "outputs": [],
   "source": []
  }
 ],
 "metadata": {
  "kernelspec": {
   "display_name": "Python 3",
   "language": "python",
   "name": "python3"
  },
  "language_info": {
   "codemirror_mode": {
    "name": "ipython",
    "version": 3
   },
   "file_extension": ".py",
   "mimetype": "text/x-python",
   "name": "python",
   "nbconvert_exporter": "python",
   "pygments_lexer": "ipython3",
   "version": "3.7.3"
  }
 },
 "nbformat": 4,
 "nbformat_minor": 2
}
