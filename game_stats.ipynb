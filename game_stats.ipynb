{
 "cells": [
  {
   "cell_type": "code",
   "execution_count": null,
   "metadata": {},
   "outputs": [],
   "source": [
    "class GameStats():\n",
    "    \"\"\"Track statistics for alien invasion.\"\"\"\n",
    "    def __init__(self, ai_settings):\n",
    "        \"\"\"initialize statistics.\"\"\"\n",
    "        self.ai_settings = ai_settings\n",
    "        self.reset_stats()\n",
    "        self.game_active = False\n",
    "        # Higher score should never be reset.\n",
    "        self.high_score = 0\n",
    "    \n",
    "    def reset_stats(self):\n",
    "        \"\"\"Initialize statistics that can change during the game.\"\"\"\n",
    "        self.ship_left = self.ai_settings.ship_limit\n",
    "        self.score = 0\n",
    "        self.level = 1"
   ]
  }
 ],
 "metadata": {
  "kernelspec": {
   "display_name": "Python 3",
   "language": "python",
   "name": "python3"
  },
  "language_info": {
   "codemirror_mode": {
    "name": "ipython",
    "version": 3
   },
   "file_extension": ".py",
   "mimetype": "text/x-python",
   "name": "python",
   "nbconvert_exporter": "python",
   "pygments_lexer": "ipython3",
   "version": "3.7.3"
  }
 },
 "nbformat": 4,
 "nbformat_minor": 2
}
