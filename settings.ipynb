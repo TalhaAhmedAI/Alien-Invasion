{
 "cells": [
  {
   "cell_type": "code",
   "execution_count": null,
   "metadata": {},
   "outputs": [],
   "source": [
    "class Settings():\n",
    "    '''A class to store all setting of Alien Invasion'''\n",
    "    def __init__(self):\n",
    "        # Ship settings\n",
    "        self.ship_speed_factor = 1.5\n",
    "        self.ship_limit = 3\n",
    "        '''Initiallize the game's static settings.'''\n",
    "        # Alien settings.\n",
    "        self.alien_speed_factor = 1\n",
    "        self.fleet_drop_speed = 10\n",
    "        # fleet direction of 1 represents right; -1 represents left\n",
    "        self.fleet_direction = 1\n",
    "        # How quickly the game speeds up.\n",
    "        self.speedup_scale = 1.1\n",
    "        # How quickly the alien point values increase.\n",
    "        self.score_scale = 1.5\n",
    "        self.initialize_dynamic_settings()\n",
    "        #screen settings\n",
    "        self.screen_width = 800\n",
    "        self.screen_height = 600\n",
    "        self.bg_color = (230, 230, 230)\n",
    "        # Bullet settings\n",
    "        self.bullet_speed_factor = 3\n",
    "        self.bullet_width = 3\n",
    "        self.bullet_height = 15\n",
    "        self.bullet_color = 60, 60, 60\n",
    "        self.bullets_allowed = 3\n",
    "        \n",
    "    def initialize_dynamic_settings(self):\n",
    "        \"\"\"Initialize settings that change throughout the game.\"\"\"\n",
    "        self.ship_speed_factor = 1.5\n",
    "        self.bullet_speed_factor = 3\n",
    "        self.alien_speed_factor = 1\n",
    "        # fleet_direction of 1 represents right; -1 represents left.\n",
    "        self.fleet_direction = 1\n",
    "        # Scoring\n",
    "        self.alien_points = 50\n",
    "        \n",
    "    def increase_speed(self):\n",
    "        \"\"\"increase speed settings and alien point values.\"\"\"\n",
    "        self.ship_speed_factor *= self.speedup_scale\n",
    "        self.bullet_speed_factor *= self.speedup_scale\n",
    "        self.alien_speed_factor *= self.speedup_scale\n",
    "        self.alien_points = int(self.alien_points * self.score_scale)"
   ]
  },
  {
   "cell_type": "code",
   "execution_count": null,
   "metadata": {},
   "outputs": [],
   "source": []
  }
 ],
 "metadata": {
  "kernelspec": {
   "display_name": "Python 3",
   "language": "python",
   "name": "python3"
  },
  "language_info": {
   "codemirror_mode": {
    "name": "ipython",
    "version": 3
   },
   "file_extension": ".py",
   "mimetype": "text/x-python",
   "name": "python",
   "nbconvert_exporter": "python",
   "pygments_lexer": "ipython3",
   "version": "3.7.3"
  }
 },
 "nbformat": 4,
 "nbformat_minor": 2
}
